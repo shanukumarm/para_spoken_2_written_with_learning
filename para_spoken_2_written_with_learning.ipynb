{
 "cells": [
  {
   "cell_type": "code",
   "execution_count": 115,
   "metadata": {},
   "outputs": [],
   "source": [
    "import json"
   ]
  },
  {
   "cell_type": "code",
   "execution_count": 116,
   "metadata": {},
   "outputs": [],
   "source": [
    "def Rule():\n",
    "    try:\n",
    "        rules = json.load(open('./rules.txt', 'r'))\n",
    "    except:\n",
    "        rules =  {\n",
    "                \"zero\": 0,\n",
    "                \"one\" : 1,\n",
    "                \"two\": 2,\n",
    "                \"three\": 3,\n",
    "                \"four\": 4,\n",
    "                \"five\": 5,\n",
    "                \"six\": 6,\n",
    "                \"seven\": 7,\n",
    "                \"eight\": 8,\n",
    "                \"nine\": 9,\n",
    "                \"ten\": 10,\n",
    "                \"eleven\": 11,\n",
    "                \"twenty\": 20,\n",
    "                \"thirty\": 30,\n",
    "                \"forty\": 40,\n",
    "                \"fifty\": 50,\n",
    "                \"sixty\": 60,\n",
    "                \"seventy\": 70,\n",
    "                \"eighty\": 80,\n",
    "                \"ninety\": 90,\n",
    "                \"hundred\": 100,\n",
    "                \"C M\": \"CM\",\n",
    "                \"P M\": \"PM\",\n",
    "                \"double A\": \"AA\",\n",
    "                \"triple A\": \"AAA\"\n",
    "                }\n",
    "        json.dump(rules, open('./rules.txt', 'w'))\n",
    "    return rules"
   ]
  },
  {
   "cell_type": "code",
   "execution_count": 117,
   "metadata": {},
   "outputs": [],
   "source": [
    "def Numbers():\n",
    "    try:\n",
    "        num = json.loads(open('./num.txt', 'r'))\n",
    "    except:\n",
    "        num =   {\n",
    "                \"zero\": 0,\n",
    "                \"one\" : 1,\n",
    "                \"two\": 2,\n",
    "                \"three\": 3,\n",
    "                \"four\": 4,\n",
    "                \"five\": 5,\n",
    "                \"six\": 6,\n",
    "                \"seven\": 7,\n",
    "                \"eight\": 8,\n",
    "                \"nine\": 9,\n",
    "                \"ten\": 10,\n",
    "                \"eleven\": 11,\n",
    "                \"twenty\": 20,\n",
    "                \"thirty\": 30,\n",
    "                \"forty\": 40,\n",
    "                \"fifty\": 50,\n",
    "                \"sixty\": 60,\n",
    "                \"seventy\": 70,\n",
    "                \"eighty\": 80,\n",
    "                \"ninety\": 90,\n",
    "                \"hundred\": 100\n",
    "            }\n",
    "        json.dump(num, open('./num.txt', 'w'))\n",
    "    return num"
   ]
  },
  {
   "cell_type": "code",
   "execution_count": 118,
   "metadata": {},
   "outputs": [],
   "source": [
    "def Specialrule():\n",
    "    try:\n",
    "        specialrules = json.load(open('./specialrules.txt', 'r'))\n",
    "    except:\n",
    "        specialrules = {\n",
    "                            \"dollers\": '$'\n",
    "                            }\n",
    "        json.dump(specialrules, open('./specialrules.txt', 'w'))\n",
    "    return specialrules"
   ]
  },
  {
   "cell_type": "code",
   "execution_count": 119,
   "metadata": {},
   "outputs": [],
   "source": [
    "def s2w(para):\n",
    "    rules = Specialrule()\n",
    "    numbers = Numbers()\n",
    "    for rule in rules:\n",
    "        for number in numbers:\n",
    "            para = para.replace(\" \"+number+\" \"+rule+\" \" , \" \"+str(rules[rule])+str(numbers[number])+\" \")\n",
    "    rules = Rule()\n",
    "    for rule in rules:\n",
    "        para = para.replace(\" \"+rule+\" \", \" \"+str(rules[rule])+\" \")\n",
    "    return para         "
   ]
  },
  {
   "cell_type": "code",
   "execution_count": 123,
   "metadata": {},
   "outputs": [],
   "source": [
    "def addrules(spoken_rule, written_rule, typ):\n",
    "    if typ==1:\n",
    "        oldrules = Specialrule()\n",
    "        if spoken_rule not in oldrule:\n",
    "            oldrules[spoken_rule] = written_rule\n",
    "            json.dump(oldrules, open('./specialrules.txt', 'w'))\n",
    "        return\n",
    "    if typ==2:\n",
    "        numbers = Numbers()\n",
    "        if spoken_rule not in num:\n",
    "            num[spoken_rule] = written_rule\n",
    "            json.dump(num, open('./num.txt', 'w'))\n",
    "        return\n",
    "    \n",
    "    if typ==0:\n",
    "        rules = Rule()\n",
    "        if spoken_rule not in rules:\n",
    "            rules[spoken_rule] = written_rule\n",
    "            json.dump(rules, open('./rules.txt', 'w'))\n",
    "        return\n",
    "    print('Wrong type')"
   ]
  },
  {
   "cell_type": "code",
   "execution_count": 126,
   "metadata": {},
   "outputs": [
    {
     "data": {
      "text/plain": [
       "'This is a AAA battery. $2 1000 '"
      ]
     },
     "execution_count": 126,
     "metadata": {},
     "output_type": "execute_result"
    }
   ],
   "source": [
    "para = 'This is a triple A battery. two dollers thousand '\n",
    "s2w(para)"
   ]
  },
  {
   "cell_type": "code",
   "execution_count": 125,
   "metadata": {},
   "outputs": [],
   "source": [
    "spoken_rule = 'thousand'\n",
    "written_rule = 1000\n",
    "typ = 0\n",
    "addrules(spoken_rule, written_rule, typ)"
   ]
  },
  {
   "cell_type": "code",
   "execution_count": null,
   "metadata": {},
   "outputs": [],
   "source": []
  },
  {
   "cell_type": "code",
   "execution_count": null,
   "metadata": {},
   "outputs": [],
   "source": []
  }
 ],
 "metadata": {
  "kernelspec": {
   "display_name": "Python 3",
   "language": "python",
   "name": "python3"
  },
  "language_info": {
   "codemirror_mode": {
    "name": "ipython",
    "version": 3
   },
   "file_extension": ".py",
   "mimetype": "text/x-python",
   "name": "python",
   "nbconvert_exporter": "python",
   "pygments_lexer": "ipython3",
   "version": "3.7.6"
  }
 },
 "nbformat": 4,
 "nbformat_minor": 4
}
